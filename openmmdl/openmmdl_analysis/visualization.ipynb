{
 "cells": [
  {
   "cell_type": "code",
   "execution_count": 1,
   "metadata": {},
   "outputs": [
    {
     "name": "stderr",
     "output_type": "stream",
     "text": [
      "/home/valerij/miniconda3/envs/openmmdl_2/lib/python3.11/site-packages/MDAnalysis/topology/TPRParser.py:161: DeprecationWarning: 'xdrlib' is deprecated and slated for removal in Python 3.13\n",
      "import xdrlib\n"
     ]
    },
    {
     "data": {
      "application/vnd.jupyter.widget-view+json": {
       "model_id": "3c75038263be48f0824e661c9bce5b8d",
       "version_major": 2,
       "version_minor": 0
      },
      "text/plain": []
     },
     "metadata": {},
     "output_type": "display_data"
    }
   ],
   "source": [
    "from openmmdl.openmmdl_analysis.visualization_functions import Visualizer\n",
    "import MDAnalysis as mda\n",
    "import mdonatello\n",
    "import os"
   ]
  },
  {
   "cell_type": "code",
   "execution_count": 4,
   "metadata": {},
   "outputs": [],
   "source": [
    "ligname = 'UNK' # add the name of the ligand from the original PDB File\n",
    "special = None # if special ligand like HEM is present add the name of the special ligand from the original PDB File\n",
    "md = mda.Universe('PATH_TO_interacting_waters.pdb', 'PATH_TO_interacting_waters.dcd')\n",
    "cloud = 'PATH_TO_clouds.json'\n",
    "\n",
    "visualizer = Visualizer(md, cloud, ligname, special)"
   ]
  },
  {
   "cell_type": "code",
   "execution_count": 5,
   "metadata": {},
   "outputs": [
    {
     "data": {
      "application/vnd.jupyter.widget-view+json": {
       "model_id": "09acfdb0e59f46d481905cef43c231c0",
       "version_major": 2,
       "version_minor": 0
      },
      "text/plain": [
       "ThemeManager()"
      ]
     },
     "metadata": {},
     "output_type": "display_data"
    },
    {
     "data": {
      "application/vnd.jupyter.widget-view+json": {
       "model_id": "4b33c5fd6d6541ed8b9766bdbfe27e42",
       "version_major": 2,
       "version_minor": 0
      },
      "text/plain": [
       "NGLWidget(gui_style='ngl', layout=Layout(height='1000px', width='1000px'), max_frame=9999)"
      ]
     },
     "metadata": {},
     "output_type": "display_data"
    }
   ],
   "source": [
    "# Predefined variables: receptor_type=\"protein or nucleic\", height=\"1000px\", width=\"1000px\"\n",
    "view = visualizer.visualize()\n",
    "view.display(gui=True, style='ngl')"
   ]
  },
  {
   "cell_type": "markdown",
   "metadata": {},
   "source": [
    "## MDonatello 2D Molecule Visualization"
   ]
  },
  {
   "cell_type": "code",
   "execution_count": null,
   "metadata": {},
   "outputs": [],
   "source": [
    "if os.path.exists(\"prot_lig.pdb\"):\n",
    "    u = mda.Universe(\"prot_lig.pdb\"))\n",
    "elif os.path.exists(\"centered_top.pdb\"):\n",
    "    u = mda.Universe(\"centered_top.pdb\")"
   ]
  },
  {
   "cell_type": "code",
   "execution_count": null,
   "metadata": {},
   "outputs": [],
   "source": [
    "ag = u.select_atoms(\"resname UNK\")\n",
    "visualizer = MoleculeVisualizer(ag, show_atom_indices=False, width=-1, height=-1)"
   ]
  }
 ],
 "metadata": {
  "kernelspec": {
   "display_name": "Python 3 (ipykernel)",
   "language": "python",
   "name": "python3"
  },
  "language_info": {
   "codemirror_mode": {
    "name": "ipython",
    "version": 3
   },
   "file_extension": ".py",
   "mimetype": "text/x-python",
   "name": "python",
   "nbconvert_exporter": "python",
   "pygments_lexer": "ipython3",
   "version": "3.11.9"
  },
  "vscode": {
   "interpreter": {
    "hash": "e021570d17280ebc37ed8e9fc470ea25281789feeed8bd826cec564b6552ec2d"
   }
  }
 },
 "nbformat": 4,
 "nbformat_minor": 4
}
